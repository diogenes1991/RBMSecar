{
 "cells": [
  {
   "cell_type": "code",
   "execution_count": 1,
   "id": "f27717d7",
   "metadata": {},
   "outputs": [],
   "source": [
    "import pandas as pd"
   ]
  },
  {
   "cell_type": "code",
   "execution_count": 2,
   "id": "6e4d9b79",
   "metadata": {},
   "outputs": [],
   "source": [
    "import numpy as np\n",
    "from lookup import lookup\n",
    "import os\n",
    " \n",
    "# Get the list of all files and directories\n",
    "path = \"C:/Users/dioge/Code/GitHub/2023-FRIB-TA-Summer-School/model-mixing/RBMSecar/Emulator/Results\"\n",
    "dir_list = os.listdir(path)\n",
    "\n",
    "class CozyMatrix:\n",
    "    def __init__(self,path):\n",
    "        file = open(path,\"r\")\n",
    "        self.matrices = []\n",
    "        local_mat = 330*[0]\n",
    "        count = 1\n",
    "        for line in file:\n",
    "            count += 1\n",
    "            vec = line.split()\n",
    "            if vec[0] == \"L\" or vec[0] == \"P\" or vec[0] == \"A\" or vec[0][0] == \"-\":\n",
    "                continue\n",
    "            if vec[0] == \"I\" and len(local_mat)!=0:\n",
    "                self.matrices.append(local_mat)\n",
    "                #print(local_mat)\n",
    "                local_mat = 330*[0]\n",
    "            elif vec[0] != \"I\":\n",
    "                word = \"\"\n",
    "                for i in range(3,len(vec)):\n",
    "                    word+=vec[i]\n",
    "                try:\n",
    "                    local_mat[lookup[word]-1] = float(vec[1])\n",
    "                except:\n",
    "                    pass             "
   ]
  },
  {
   "cell_type": "code",
   "execution_count": 6,
   "id": "6b1e84e5",
   "metadata": {},
   "outputs": [
    {
     "name": "stdout",
     "output_type": "stream",
     "text": [
      "['6', '1.000000000000000', '1', '0', '0', '0', '0', '1', '0', '0', '0'] 00001000\n"
     ]
    }
   ],
   "source": [
    "M1 = CozyMatrix(path+\"/\"+dir_list[2])"
   ]
  },
  {
   "cell_type": "code",
   "execution_count": 5,
   "id": "e904b64b",
   "metadata": {},
   "outputs": [
    {
     "data": {
      "text/plain": [
       "1.0"
      ]
     },
     "execution_count": 5,
     "metadata": {},
     "output_type": "execute_result"
    }
   ],
   "source": [
    "lookup['0000100']\n",
    "float(1.0)"
   ]
  },
  {
   "cell_type": "code",
   "execution_count": null,
   "id": "644d8e8a",
   "metadata": {},
   "outputs": [],
   "source": [
    "    \n",
    "    \n",
    "                "
   ]
  }
 ],
 "metadata": {
  "kernelspec": {
   "display_name": "Python 3 (ipykernel)",
   "language": "python",
   "name": "python3"
  },
  "language_info": {
   "codemirror_mode": {
    "name": "ipython",
    "version": 3
   },
   "file_extension": ".py",
   "mimetype": "text/x-python",
   "name": "python",
   "nbconvert_exporter": "python",
   "pygments_lexer": "ipython3",
   "version": "3.9.12"
  }
 },
 "nbformat": 4,
 "nbformat_minor": 5
}
